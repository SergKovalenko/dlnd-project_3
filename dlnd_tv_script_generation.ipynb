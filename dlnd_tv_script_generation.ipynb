{
 "cells": [
  {
   "cell_type": "markdown",
   "metadata": {},
   "source": [
    "# TV Script Generation\n",
    "In this project, you'll generate your own [Simpsons](https://en.wikipedia.org/wiki/The_Simpsons) TV scripts using RNNs.  You'll be using part of the [Simpsons dataset](https://www.kaggle.com/wcukierski/the-simpsons-by-the-data) of scripts from 27 seasons.  The Neural Network you'll build will generate a new TV script for a scene at [Moe's Tavern](https://simpsonswiki.com/wiki/Moe's_Tavern).\n",
    "## Get the Data\n",
    "The data is already provided for you.  You'll be using a subset of the original dataset.  It consists of only the scenes in Moe's Tavern.  This doesn't include other versions of the tavern, like \"Moe's Cavern\", \"Flaming Moe's\", \"Uncle Moe's Family Feed-Bag\", etc.."
   ]
  },
  {
   "cell_type": "code",
   "execution_count": 1,
   "metadata": {
    "collapsed": true
   },
   "outputs": [],
   "source": [
    "\"\"\"\n",
    "DON'T MODIFY ANYTHING IN THIS CELL\n",
    "\"\"\"\n",
    "import helper\n",
    "\n",
    "data_dir = './data/simpsons/moes_tavern_lines.txt'\n",
    "text = helper.load_data(data_dir)\n",
    "# Ignore notice, since we don't use it for analysing the data\n",
    "text = text[81:]"
   ]
  },
  {
   "cell_type": "markdown",
   "metadata": {},
   "source": [
    "## Explore the Data\n",
    "Play around with `view_sentence_range` to view different parts of the data."
   ]
  },
  {
   "cell_type": "code",
   "execution_count": 2,
   "metadata": {},
   "outputs": [
    {
     "name": "stdout",
     "output_type": "stream",
     "text": [
      "Dataset Stats\n",
      "Roughly the number of unique words: 11492\n",
      "Number of scenes: 262\n",
      "Average number of sentences in each scene: 15.248091603053435\n",
      "Number of lines: 4257\n",
      "Average number of words in each line: 11.50434578341555\n",
      "\n",
      "The sentences 5 to 15:\n",
      "Homer_Simpson: I got my problems, Moe. Give me another one.\n",
      "Moe_Szyslak: Homer, hey, you should not drink to forget your problems.\n",
      "Barney_Gumble: Yeah, you should only drink to enhance your social skills.\n",
      "\n",
      "\n",
      "Moe_Szyslak: Ah, isn't that nice. Now, there is a politician who cares.\n",
      "Barney_Gumble: If I ever vote, it'll be for him. (BELCH)\n",
      "\n",
      "\n",
      "Barney_Gumble: Hey Homer, how's your neighbor's store doing?\n"
     ]
    }
   ],
   "source": [
    "view_sentence_range = (5, 15)\n",
    "\n",
    "\"\"\"\n",
    "DON'T MODIFY ANYTHING IN THIS CELL\n",
    "\"\"\"\n",
    "import numpy as np\n",
    "\n",
    "print('Dataset Stats')\n",
    "print('Roughly the number of unique words: {}'.format(len({word: None for word in text.split()})))\n",
    "scenes = text.split('\\n\\n')\n",
    "print('Number of scenes: {}'.format(len(scenes)))\n",
    "sentence_count_scene = [scene.count('\\n') for scene in scenes]\n",
    "print('Average number of sentences in each scene: {}'.format(np.average(sentence_count_scene)))\n",
    "\n",
    "sentences = [sentence for scene in scenes for sentence in scene.split('\\n')]\n",
    "print('Number of lines: {}'.format(len(sentences)))\n",
    "word_count_sentence = [len(sentence.split()) for sentence in sentences]\n",
    "print('Average number of words in each line: {}'.format(np.average(word_count_sentence)))\n",
    "\n",
    "print()\n",
    "print('The sentences {} to {}:'.format(*view_sentence_range))\n",
    "print('\\n'.join(text.split('\\n')[view_sentence_range[0]:view_sentence_range[1]]))"
   ]
  },
  {
   "cell_type": "markdown",
   "metadata": {},
   "source": [
    "## Implement Preprocessing Functions\n",
    "The first thing to do to any dataset is preprocessing.  Implement the following preprocessing functions below:\n",
    "- Lookup Table\n",
    "- Tokenize Punctuation\n",
    "\n",
    "### Lookup Table\n",
    "To create a word embedding, you first need to transform the words to ids.  In this function, create two dictionaries:\n",
    "- Dictionary to go from the words to an id, we'll call `vocab_to_int`\n",
    "- Dictionary to go from the id to word, we'll call `int_to_vocab`\n",
    "\n",
    "Return these dictionaries in the following tuple `(vocab_to_int, int_to_vocab)`"
   ]
  },
  {
   "cell_type": "code",
   "execution_count": 3,
   "metadata": {},
   "outputs": [
    {
     "name": "stdout",
     "output_type": "stream",
     "text": [
      "Tests Passed\n"
     ]
    }
   ],
   "source": [
    "import numpy as np\n",
    "import problem_unittests as tests\n",
    "\n",
    "def create_lookup_tables(text):\n",
    "    \"\"\"\n",
    "    Create lookup tables for vocabulary\n",
    "    :param text: The text of tv scripts split into words\n",
    "    :return: A tuple of dicts (vocab_to_int, int_to_vocab)\n",
    "    \"\"\"\n",
    "    vocab_to_int = {}\n",
    "    int_to_vocab = {}\n",
    "    int = 1\n",
    "    \n",
    "    for word in text:       \n",
    "        if not word in vocab_to_int:\n",
    "            vocab_to_int[word] = int\n",
    "            int_to_vocab[int] = word\n",
    "            int += 1\n",
    "    \n",
    "    return (vocab_to_int, int_to_vocab)\n",
    "\n",
    "\n",
    "\"\"\"\n",
    "DON'T MODIFY ANYTHING IN THIS CELL THAT IS BELOW THIS LINE\n",
    "\"\"\"\n",
    "tests.test_create_lookup_tables(create_lookup_tables)"
   ]
  },
  {
   "cell_type": "markdown",
   "metadata": {},
   "source": [
    "### Tokenize Punctuation\n",
    "We'll be splitting the script into a word array using spaces as delimiters.  However, punctuations like periods and exclamation marks make it hard for the neural network to distinguish between the word \"bye\" and \"bye!\".\n",
    "\n",
    "Implement the function `token_lookup` to return a dict that will be used to tokenize symbols like \"!\" into \"||Exclamation_Mark||\".  Create a dictionary for the following symbols where the symbol is the key and value is the token:\n",
    "- Period ( . )\n",
    "- Comma ( , )\n",
    "- Quotation Mark ( \" )\n",
    "- Semicolon ( ; )\n",
    "- Exclamation mark ( ! )\n",
    "- Question mark ( ? )\n",
    "- Left Parentheses ( ( )\n",
    "- Right Parentheses ( ) )\n",
    "- Dash ( -- )\n",
    "- Return ( \\n )\n",
    "\n",
    "This dictionary will be used to token the symbols and add the delimiter (space) around it.  This separates the symbols as it's own word, making it easier for the neural network to predict on the next word. Make sure you don't use a token that could be confused as a word. Instead of using the token \"dash\", try using something like \"||dash||\"."
   ]
  },
  {
   "cell_type": "code",
   "execution_count": 4,
   "metadata": {},
   "outputs": [
    {
     "name": "stdout",
     "output_type": "stream",
     "text": [
      "Tests Passed\n"
     ]
    }
   ],
   "source": [
    "def token_lookup():\n",
    "    \"\"\"\n",
    "    Generate a dict to turn punctuation into a token.\n",
    "    :return: Tokenize dictionary where the key is the punctuation and the value is the token\n",
    "    \"\"\"\n",
    "        \n",
    "    return {\n",
    "        '.': '||Period||',\n",
    "        ',': '||Comma||',\n",
    "        '\"': '||Quotation||',\n",
    "        ';': '||Semicolon||',\n",
    "        '!': '||Exclamation||',\n",
    "        '?': '||Question||',\n",
    "        '(': '||LParentheses||',\n",
    "        ')': '||RParentheses||',\n",
    "        '--': '||Dash||',\n",
    "        '\\n': '||Return||'\n",
    "    }\n",
    "\n",
    "\"\"\"\n",
    "DON'T MODIFY ANYTHING IN THIS CELL THAT IS BELOW THIS LINE\n",
    "\"\"\"\n",
    "tests.test_tokenize(token_lookup)"
   ]
  },
  {
   "cell_type": "markdown",
   "metadata": {},
   "source": [
    "## Preprocess all the data and save it\n",
    "Running the code cell below will preprocess all the data and save it to file."
   ]
  },
  {
   "cell_type": "code",
   "execution_count": 5,
   "metadata": {
    "collapsed": true
   },
   "outputs": [],
   "source": [
    "\"\"\"\n",
    "DON'T MODIFY ANYTHING IN THIS CELL\n",
    "\"\"\"\n",
    "# Preprocess Training, Validation, and Testing Data\n",
    "helper.preprocess_and_save_data(data_dir, token_lookup, create_lookup_tables)"
   ]
  },
  {
   "cell_type": "markdown",
   "metadata": {},
   "source": [
    "# Check Point\n",
    "This is your first checkpoint. If you ever decide to come back to this notebook or have to restart the notebook, you can start from here. The preprocessed data has been saved to disk."
   ]
  },
  {
   "cell_type": "code",
   "execution_count": 1,
   "metadata": {
    "collapsed": true
   },
   "outputs": [],
   "source": [
    "\"\"\"\n",
    "DON'T MODIFY ANYTHING IN THIS CELL\n",
    "\"\"\"\n",
    "import helper\n",
    "import numpy as np\n",
    "import problem_unittests as tests\n",
    "\n",
    "int_text, vocab_to_int, int_to_vocab, token_dict = helper.load_preprocess()"
   ]
  },
  {
   "cell_type": "markdown",
   "metadata": {},
   "source": [
    "## Build the Neural Network\n",
    "You'll build the components necessary to build a RNN by implementing the following functions below:\n",
    "- get_inputs\n",
    "- get_init_cell\n",
    "- get_embed\n",
    "- build_rnn\n",
    "- build_nn\n",
    "- get_batches\n",
    "\n",
    "### Check the Version of TensorFlow and Access to GPU"
   ]
  },
  {
   "cell_type": "code",
   "execution_count": 2,
   "metadata": {},
   "outputs": [
    {
     "name": "stdout",
     "output_type": "stream",
     "text": [
      "TensorFlow Version: 1.0.0\n",
      "Default GPU Device: /gpu:0\n"
     ]
    }
   ],
   "source": [
    "\"\"\"\n",
    "DON'T MODIFY ANYTHING IN THIS CELL\n",
    "\"\"\"\n",
    "from distutils.version import LooseVersion\n",
    "import warnings\n",
    "import tensorflow as tf\n",
    "\n",
    "# Check TensorFlow Version\n",
    "assert LooseVersion(tf.__version__) >= LooseVersion('1.0'), 'Please use TensorFlow version 1.0 or newer'\n",
    "print('TensorFlow Version: {}'.format(tf.__version__))\n",
    "\n",
    "# Check for a GPU\n",
    "if not tf.test.gpu_device_name():\n",
    "    warnings.warn('No GPU found. Please use a GPU to train your neural network.')\n",
    "else:\n",
    "    print('Default GPU Device: {}'.format(tf.test.gpu_device_name()))"
   ]
  },
  {
   "cell_type": "markdown",
   "metadata": {},
   "source": [
    "### Input\n",
    "Implement the `get_inputs()` function to create TF Placeholders for the Neural Network.  It should create the following placeholders:\n",
    "- Input text placeholder named \"input\" using the [TF Placeholder](https://www.tensorflow.org/api_docs/python/tf/placeholder) `name` parameter.\n",
    "- Targets placeholder\n",
    "- Learning Rate placeholder\n",
    "\n",
    "Return the placeholders in the following tuple `(Input, Targets, LearningRate)`"
   ]
  },
  {
   "cell_type": "code",
   "execution_count": 3,
   "metadata": {},
   "outputs": [
    {
     "name": "stdout",
     "output_type": "stream",
     "text": [
      "Tests Passed\n"
     ]
    }
   ],
   "source": [
    "def get_inputs():\n",
    "    \"\"\"\n",
    "    Create TF Placeholders for input, targets, and learning rate.\n",
    "    :return: Tuple (input, targets, learning rate)\n",
    "    \"\"\"\n",
    "    input_data = tf.placeholder(tf.int32, shape=[None, None], name='input')\n",
    "    targets = tf.placeholder(tf.int32, shape=[None, None], name='targets')\n",
    "    learning_rate = tf.placeholder(tf.float32, shape=None, name='learning_rate')\n",
    "    \n",
    "    return (input_data, targets, learning_rate)\n",
    "\n",
    "\n",
    "\"\"\"\n",
    "DON'T MODIFY ANYTHING IN THIS CELL THAT IS BELOW THIS LINE\n",
    "\"\"\"\n",
    "tests.test_get_inputs(get_inputs)"
   ]
  },
  {
   "cell_type": "markdown",
   "metadata": {},
   "source": [
    "### Build RNN Cell and Initialize\n",
    "Stack one or more [`BasicLSTMCells`](https://www.tensorflow.org/api_docs/python/tf/contrib/rnn/BasicLSTMCell) in a [`MultiRNNCell`](https://www.tensorflow.org/api_docs/python/tf/contrib/rnn/MultiRNNCell).\n",
    "- The Rnn size should be set using `rnn_size`\n",
    "- Initalize Cell State using the MultiRNNCell's [`zero_state()`](https://www.tensorflow.org/api_docs/python/tf/contrib/rnn/MultiRNNCell#zero_state) function\n",
    "    - Apply the name \"initial_state\" to the initial state using [`tf.identity()`](https://www.tensorflow.org/api_docs/python/tf/identity)\n",
    "\n",
    "Return the cell and initial state in the following tuple `(Cell, InitialState)`"
   ]
  },
  {
   "cell_type": "code",
   "execution_count": 4,
   "metadata": {},
   "outputs": [
    {
     "name": "stdout",
     "output_type": "stream",
     "text": [
      "Tests Passed\n"
     ]
    }
   ],
   "source": [
    "def get_init_cell(batch_size, rnn_size):\n",
    "    \"\"\"\n",
    "    Create an RNN Cell and initialize it.\n",
    "    :param batch_size: Size of batches\n",
    "    :param rnn_size: Size of RNNs\n",
    "    :return: Tuple (cell, initialize state)\n",
    "    \"\"\"\n",
    "    lstm = tf.contrib.rnn.BasicLSTMCell(rnn_size)\n",
    "#     drop = tf.contrib.rnn.DropoutWrapper(lstm, output_keep_prob = 0.2)\n",
    "    \n",
    "    num_layers = 1\n",
    "    rnn_cell = tf.contrib.rnn.MultiRNNCell([lstm] * num_layers)\n",
    "    \n",
    "    initState = rnn_cell.zero_state(batch_size, tf.float32)\n",
    "    initState = tf.identity(initState, name='initial_state')\n",
    "    \n",
    "    return (rnn_cell, initState)\n",
    "\n",
    "\n",
    "\"\"\"\n",
    "DON'T MODIFY ANYTHING IN THIS CELL THAT IS BELOW THIS LINE\n",
    "\"\"\"\n",
    "tests.test_get_init_cell(get_init_cell)"
   ]
  },
  {
   "cell_type": "markdown",
   "metadata": {},
   "source": [
    "### Word Embedding\n",
    "Apply embedding to `input_data` using TensorFlow.  Return the embedded sequence."
   ]
  },
  {
   "cell_type": "code",
   "execution_count": 5,
   "metadata": {},
   "outputs": [
    {
     "name": "stdout",
     "output_type": "stream",
     "text": [
      "Tests Passed\n"
     ]
    }
   ],
   "source": [
    "def get_embed(input_data, vocab_size, embed_dim):\n",
    "    \"\"\"\n",
    "    Create embedding for <input_data>.\n",
    "    :param input_data: TF placeholder for text input.\n",
    "    :param vocab_size: Number of words in vocabulary.\n",
    "    :param embed_dim: Number of embedding dimensions\n",
    "    :return: Embedded input.\n",
    "    \"\"\"\n",
    "    # TODO: Implement Function\n",
    "    embedding = tf.Variable(tf.random_uniform((vocab_size, embed_dim), -1, 1))\n",
    "    emb_input = tf.nn.embedding_lookup(embedding, input_data)\n",
    "    \n",
    "    return emb_input\n",
    "\n",
    "\n",
    "\"\"\"\n",
    "DON'T MODIFY ANYTHING IN THIS CELL THAT IS BELOW THIS LINE\n",
    "\"\"\"\n",
    "tests.test_get_embed(get_embed)"
   ]
  },
  {
   "cell_type": "markdown",
   "metadata": {},
   "source": [
    "### Build RNN\n",
    "You created a RNN Cell in the `get_init_cell()` function.  Time to use the cell to create a RNN.\n",
    "- Build the RNN using the [`tf.nn.dynamic_rnn()`](https://www.tensorflow.org/api_docs/python/tf/nn/dynamic_rnn)\n",
    " - Apply the name \"final_state\" to the final state using [`tf.identity()`](https://www.tensorflow.org/api_docs/python/tf/identity)\n",
    "\n",
    "Return the outputs and final_state state in the following tuple `(Outputs, FinalState)` "
   ]
  },
  {
   "cell_type": "code",
   "execution_count": 6,
   "metadata": {},
   "outputs": [
    {
     "name": "stdout",
     "output_type": "stream",
     "text": [
      "Tests Passed\n"
     ]
    }
   ],
   "source": [
    "def build_rnn(cell, inputs):\n",
    "    \"\"\"\n",
    "    Create a RNN using a RNN Cell\n",
    "    :param cell: RNN Cell\n",
    "    :param inputs: Input text data\n",
    "    :return: Tuple (Outputs, Final State)\n",
    "    \"\"\"\n",
    "    # TODO: Implement Function\n",
    "    outputs, state = tf.nn.dynamic_rnn(cell, inputs, dtype=tf.float32)\n",
    "    final_state = tf.identity(state, name=\"final_state\")\n",
    "    return (outputs, final_state)\n",
    "\n",
    "\n",
    "\"\"\"\n",
    "DON'T MODIFY ANYTHING IN THIS CELL THAT IS BELOW THIS LINE\n",
    "\"\"\"\n",
    "tests.test_build_rnn(build_rnn)"
   ]
  },
  {
   "cell_type": "markdown",
   "metadata": {},
   "source": [
    "### Build the Neural Network\n",
    "Apply the functions you implemented above to:\n",
    "- Apply embedding to `input_data` using your `get_embed(input_data, vocab_size, embed_dim)` function.\n",
    "- Build RNN using `cell` and your `build_rnn(cell, inputs)` function.\n",
    "- Apply a fully connected layer with a linear activation and `vocab_size` as the number of outputs.\n",
    "\n",
    "Return the logits and final state in the following tuple (Logits, FinalState) "
   ]
  },
  {
   "cell_type": "code",
   "execution_count": 7,
   "metadata": {},
   "outputs": [
    {
     "name": "stdout",
     "output_type": "stream",
     "text": [
      "Tests Passed\n"
     ]
    }
   ],
   "source": [
    "def build_nn(cell, rnn_size, input_data, vocab_size, embed_dim):\n",
    "    \"\"\"\n",
    "    Build part of the neural network\n",
    "    :param cell: RNN cell\n",
    "    :param rnn_size: Size of rnns\n",
    "    :param input_data: Input data\n",
    "    :param vocab_size: Vocabulary size\n",
    "    :param embed_dim: Number of embedding dimensions\n",
    "    :return: Tuple (Logits, FinalState)\n",
    "    \"\"\"\n",
    "    # TODO: Implement Function\n",
    "    embed = get_embed(input_data, vocab_size, rnn_size)\n",
    "    outputs, final_state = build_rnn(cell, embed)\n",
    "    logits = tf.contrib.layers.fully_connected(outputs, vocab_size, activation_fn=None)\n",
    "    return (logits, final_state)\n",
    "\n",
    "\n",
    "\"\"\"\n",
    "DON'T MODIFY ANYTHING IN THIS CELL THAT IS BELOW THIS LINE\n",
    "\"\"\"\n",
    "tests.test_build_nn(build_nn)"
   ]
  },
  {
   "cell_type": "markdown",
   "metadata": {},
   "source": [
    "### Batches\n",
    "Implement `get_batches` to create batches of input and targets using `int_text`.  The batches should be a Numpy array with the shape `(number of batches, 2, batch size, sequence length)`. Each batch contains two elements:\n",
    "- The first element is a single batch of **input** with the shape `[batch size, sequence length]`\n",
    "- The second element is a single batch of **targets** with the shape `[batch size, sequence length]`\n",
    "\n",
    "If you can't fill the last batch with enough data, drop the last batch.\n",
    "\n",
    "For exmple, `get_batches([1, 2, 3, 4, 5, 6, 7, 8, 9, 10, 11, 12, 13, 14, 15], 2, 3)` would return a Numpy array of the following:\n",
    "```\n",
    "[\n",
    "  # First Batch\n",
    "  [\n",
    "    # Batch of Input\n",
    "    [[ 1  2  3], [ 7  8  9]],\n",
    "    # Batch of targets\n",
    "    [[ 2  3  4], [ 8  9 10]]\n",
    "  ],\n",
    " \n",
    "  # Second Batch\n",
    "  [\n",
    "    # Batch of Input\n",
    "    [[ 4  5  6], [10 11 12]],\n",
    "    # Batch of targets\n",
    "    [[ 5  6  7], [11 12 13]]\n",
    "  ]\n",
    "]\n",
    "```"
   ]
  },
  {
   "cell_type": "code",
   "execution_count": 8,
   "metadata": {},
   "outputs": [
    {
     "name": "stdout",
     "output_type": "stream",
     "text": [
      "Tests Passed\n"
     ]
    }
   ],
   "source": [
    "def get_batches(int_text, batch_size, seq_length):\n",
    "    \"\"\"\n",
    "    Return batches of input and target\n",
    "    :param int_text: Text with the words replaced by their ids\n",
    "    :param batch_size: The size of batch\n",
    "    :param seq_length: The length of sequence\n",
    "    :return: Batches as a Numpy array\n",
    "    \"\"\"\n",
    "    # TODO: Implement Function\n",
    "    batches_num = len(int_text) // (batch_size * seq_length)\n",
    "    int_text = np.array(int_text[:batches_num * batch_size * seq_length])\n",
    "    int_text = np.append(int_text, int_text[0])\n",
    "    batches = np.ndarray([batches_num, 2, batch_size, seq_length], int)\n",
    "\n",
    "    first_item = 0\n",
    "\n",
    "    for i in range(batch_size):\n",
    "        for batch in batches:\n",
    "            last_item = first_item + seq_length\n",
    "\n",
    "            batch[0][i] = int_text[first_item : last_item]\n",
    "            batch[1][i] = int_text[first_item + 1 : last_item + 1]\n",
    "\n",
    "            first_item += seq_length\n",
    "        \n",
    "    return batches\n",
    "\n",
    "\n",
    "\"\"\"\n",
    "DON'T MODIFY ANYTHING IN THIS CELL THAT IS BELOW THIS LINE\n",
    "\"\"\"\n",
    "tests.test_get_batches(get_batches)"
   ]
  },
  {
   "cell_type": "markdown",
   "metadata": {},
   "source": [
    "## Neural Network Training\n",
    "### Hyperparameters\n",
    "Tune the following parameters:\n",
    "\n",
    "- Set `num_epochs` to the number of epochs.\n",
    "- Set `batch_size` to the batch size.\n",
    "- Set `rnn_size` to the size of the RNNs.\n",
    "- Set `embed_dim` to the size of the embedding.\n",
    "- Set `seq_length` to the length of sequence.\n",
    "- Set `learning_rate` to the learning rate.\n",
    "- Set `show_every_n_batches` to the number of batches the neural network should print progress."
   ]
  },
  {
   "cell_type": "code",
   "execution_count": 9,
   "metadata": {
    "collapsed": true
   },
   "outputs": [],
   "source": [
    "# Number of Epochs\n",
    "num_epochs = 50\n",
    "# Batch Size\n",
    "batch_size = 128\n",
    "# RNN Size\n",
    "rnn_size = 256\n",
    "# Embedding Dimension Size\n",
    "embed_dim = 300\n",
    "# Sequence Length\n",
    "seq_length = 10\n",
    "# Learning Rate\n",
    "learning_rate = 0.01\n",
    "# Show stats for every n number of batches\n",
    "show_every_n_batches = 10\n",
    "\n",
    "\"\"\"\n",
    "DON'T MODIFY ANYTHING IN THIS CELL THAT IS BELOW THIS LINE\n",
    "\"\"\"\n",
    "save_dir = './save'"
   ]
  },
  {
   "cell_type": "markdown",
   "metadata": {},
   "source": [
    "### Build the Graph\n",
    "Build the graph using the neural network you implemented."
   ]
  },
  {
   "cell_type": "code",
   "execution_count": 10,
   "metadata": {
    "collapsed": true
   },
   "outputs": [],
   "source": [
    "\"\"\"\n",
    "DON'T MODIFY ANYTHING IN THIS CELL\n",
    "\"\"\"\n",
    "from tensorflow.contrib import seq2seq\n",
    "\n",
    "train_graph = tf.Graph()\n",
    "with train_graph.as_default():\n",
    "    vocab_size = len(int_to_vocab)\n",
    "    input_text, targets, lr = get_inputs()\n",
    "    input_data_shape = tf.shape(input_text)\n",
    "    cell, initial_state = get_init_cell(input_data_shape[0], rnn_size)\n",
    "    logits, final_state = build_nn(cell, rnn_size, input_text, vocab_size, embed_dim)\n",
    "\n",
    "    # Probabilities for generating words\n",
    "    probs = tf.nn.softmax(logits, name='probs')\n",
    "\n",
    "    # Loss function\n",
    "    cost = seq2seq.sequence_loss(\n",
    "        logits,\n",
    "        targets,\n",
    "        tf.ones([input_data_shape[0], input_data_shape[1]]))\n",
    "\n",
    "    # Optimizer\n",
    "    optimizer = tf.train.AdamOptimizer(lr)\n",
    "\n",
    "    # Gradient Clipping\n",
    "    gradients = optimizer.compute_gradients(cost)\n",
    "    capped_gradients = [(tf.clip_by_value(grad, -1., 1.), var) for grad, var in gradients if grad is not None]\n",
    "    train_op = optimizer.apply_gradients(capped_gradients)"
   ]
  },
  {
   "cell_type": "markdown",
   "metadata": {},
   "source": [
    "## Train\n",
    "Train the neural network on the preprocessed data.  If you have a hard time getting a good loss, check the [forms](https://discussions.udacity.com/) to see if anyone is having the same problem."
   ]
  },
  {
   "cell_type": "code",
   "execution_count": 11,
   "metadata": {},
   "outputs": [
    {
     "name": "stdout",
     "output_type": "stream",
     "text": [
      "Epoch   0 Batch    0/53   train_loss = 8.821\n",
      "Epoch   0 Batch   10/53   train_loss = 6.174\n",
      "Epoch   0 Batch   20/53   train_loss = 5.949\n",
      "Epoch   0 Batch   30/53   train_loss = 5.555\n",
      "Epoch   0 Batch   40/53   train_loss = 5.407\n",
      "Epoch   0 Batch   50/53   train_loss = 5.209\n",
      "Epoch   1 Batch    7/53   train_loss = 5.125\n",
      "Epoch   1 Batch   17/53   train_loss = 4.779\n",
      "Epoch   1 Batch   27/53   train_loss = 4.685\n",
      "Epoch   1 Batch   37/53   train_loss = 4.475\n",
      "Epoch   1 Batch   47/53   train_loss = 4.430\n",
      "Epoch   2 Batch    4/53   train_loss = 4.313\n",
      "Epoch   2 Batch   14/53   train_loss = 4.346\n",
      "Epoch   2 Batch   24/53   train_loss = 4.197\n",
      "Epoch   2 Batch   34/53   train_loss = 4.121\n",
      "Epoch   2 Batch   44/53   train_loss = 4.050\n",
      "Epoch   3 Batch    1/53   train_loss = 3.854\n",
      "Epoch   3 Batch   11/53   train_loss = 3.838\n",
      "Epoch   3 Batch   21/53   train_loss = 3.913\n",
      "Epoch   3 Batch   31/53   train_loss = 3.708\n",
      "Epoch   3 Batch   41/53   train_loss = 3.614\n",
      "Epoch   3 Batch   51/53   train_loss = 3.643\n",
      "Epoch   4 Batch    8/53   train_loss = 3.475\n",
      "Epoch   4 Batch   18/53   train_loss = 3.495\n",
      "Epoch   4 Batch   28/53   train_loss = 3.304\n",
      "Epoch   4 Batch   38/53   train_loss = 3.272\n",
      "Epoch   4 Batch   48/53   train_loss = 3.264\n",
      "Epoch   5 Batch    5/53   train_loss = 3.285\n",
      "Epoch   5 Batch   15/53   train_loss = 3.195\n",
      "Epoch   5 Batch   25/53   train_loss = 3.252\n",
      "Epoch   5 Batch   35/53   train_loss = 3.069\n",
      "Epoch   5 Batch   45/53   train_loss = 2.978\n",
      "Epoch   6 Batch    2/53   train_loss = 3.032\n",
      "Epoch   6 Batch   12/53   train_loss = 2.901\n",
      "Epoch   6 Batch   22/53   train_loss = 2.852\n",
      "Epoch   6 Batch   32/53   train_loss = 2.741\n",
      "Epoch   6 Batch   42/53   train_loss = 2.671\n",
      "Epoch   6 Batch   52/53   train_loss = 2.757\n",
      "Epoch   7 Batch    9/53   train_loss = 2.648\n",
      "Epoch   7 Batch   19/53   train_loss = 2.637\n",
      "Epoch   7 Batch   29/53   train_loss = 2.525\n",
      "Epoch   7 Batch   39/53   train_loss = 2.490\n",
      "Epoch   7 Batch   49/53   train_loss = 2.485\n",
      "Epoch   8 Batch    6/53   train_loss = 2.413\n",
      "Epoch   8 Batch   16/53   train_loss = 2.387\n",
      "Epoch   8 Batch   26/53   train_loss = 2.223\n",
      "Epoch   8 Batch   36/53   train_loss = 2.337\n",
      "Epoch   8 Batch   46/53   train_loss = 2.277\n",
      "Epoch   9 Batch    3/53   train_loss = 2.204\n",
      "Epoch   9 Batch   13/53   train_loss = 2.224\n",
      "Epoch   9 Batch   23/53   train_loss = 2.143\n",
      "Epoch   9 Batch   33/53   train_loss = 2.120\n",
      "Epoch   9 Batch   43/53   train_loss = 2.116\n",
      "Epoch  10 Batch    0/53   train_loss = 2.018\n",
      "Epoch  10 Batch   10/53   train_loss = 1.885\n",
      "Epoch  10 Batch   20/53   train_loss = 1.924\n",
      "Epoch  10 Batch   30/53   train_loss = 1.887\n",
      "Epoch  10 Batch   40/53   train_loss = 1.897\n",
      "Epoch  10 Batch   50/53   train_loss = 1.883\n",
      "Epoch  11 Batch    7/53   train_loss = 1.850\n",
      "Epoch  11 Batch   17/53   train_loss = 1.713\n",
      "Epoch  11 Batch   27/53   train_loss = 1.781\n",
      "Epoch  11 Batch   37/53   train_loss = 1.745\n",
      "Epoch  11 Batch   47/53   train_loss = 1.752\n",
      "Epoch  12 Batch    4/53   train_loss = 1.713\n",
      "Epoch  12 Batch   14/53   train_loss = 1.626\n",
      "Epoch  12 Batch   24/53   train_loss = 1.536\n",
      "Epoch  12 Batch   34/53   train_loss = 1.583\n",
      "Epoch  12 Batch   44/53   train_loss = 1.603\n",
      "Epoch  13 Batch    1/53   train_loss = 1.538\n",
      "Epoch  13 Batch   11/53   train_loss = 1.613\n",
      "Epoch  13 Batch   21/53   train_loss = 1.407\n",
      "Epoch  13 Batch   31/53   train_loss = 1.525\n",
      "Epoch  13 Batch   41/53   train_loss = 1.461\n",
      "Epoch  13 Batch   51/53   train_loss = 1.403\n",
      "Epoch  14 Batch    8/53   train_loss = 1.404\n",
      "Epoch  14 Batch   18/53   train_loss = 1.386\n",
      "Epoch  14 Batch   28/53   train_loss = 1.420\n",
      "Epoch  14 Batch   38/53   train_loss = 1.411\n",
      "Epoch  14 Batch   48/53   train_loss = 1.301\n",
      "Epoch  15 Batch    5/53   train_loss = 1.378\n",
      "Epoch  15 Batch   15/53   train_loss = 1.295\n",
      "Epoch  15 Batch   25/53   train_loss = 1.347\n",
      "Epoch  15 Batch   35/53   train_loss = 1.299\n",
      "Epoch  15 Batch   45/53   train_loss = 1.387\n",
      "Epoch  16 Batch    2/53   train_loss = 1.333\n",
      "Epoch  16 Batch   12/53   train_loss = 1.257\n",
      "Epoch  16 Batch   22/53   train_loss = 1.253\n",
      "Epoch  16 Batch   32/53   train_loss = 1.120\n",
      "Epoch  16 Batch   42/53   train_loss = 1.169\n",
      "Epoch  16 Batch   52/53   train_loss = 1.214\n",
      "Epoch  17 Batch    9/53   train_loss = 1.071\n",
      "Epoch  17 Batch   19/53   train_loss = 1.185\n",
      "Epoch  17 Batch   29/53   train_loss = 1.143\n",
      "Epoch  17 Batch   39/53   train_loss = 1.090\n",
      "Epoch  17 Batch   49/53   train_loss = 1.104\n",
      "Epoch  18 Batch    6/53   train_loss = 1.097\n",
      "Epoch  18 Batch   16/53   train_loss = 1.069\n",
      "Epoch  18 Batch   26/53   train_loss = 0.918\n",
      "Epoch  18 Batch   36/53   train_loss = 1.127\n",
      "Epoch  18 Batch   46/53   train_loss = 1.030\n",
      "Epoch  19 Batch    3/53   train_loss = 1.060\n",
      "Epoch  19 Batch   13/53   train_loss = 1.052\n",
      "Epoch  19 Batch   23/53   train_loss = 0.949\n",
      "Epoch  19 Batch   33/53   train_loss = 0.956\n",
      "Epoch  19 Batch   43/53   train_loss = 1.012\n",
      "Epoch  20 Batch    0/53   train_loss = 0.990\n",
      "Epoch  20 Batch   10/53   train_loss = 0.928\n",
      "Epoch  20 Batch   20/53   train_loss = 0.911\n",
      "Epoch  20 Batch   30/53   train_loss = 0.891\n",
      "Epoch  20 Batch   40/53   train_loss = 0.923\n",
      "Epoch  20 Batch   50/53   train_loss = 0.885\n",
      "Epoch  21 Batch    7/53   train_loss = 0.857\n",
      "Epoch  21 Batch   17/53   train_loss = 0.827\n",
      "Epoch  21 Batch   27/53   train_loss = 0.912\n",
      "Epoch  21 Batch   37/53   train_loss = 0.826\n",
      "Epoch  21 Batch   47/53   train_loss = 0.841\n",
      "Epoch  22 Batch    4/53   train_loss = 0.895\n",
      "Epoch  22 Batch   14/53   train_loss = 0.856\n",
      "Epoch  22 Batch   24/53   train_loss = 0.777\n",
      "Epoch  22 Batch   34/53   train_loss = 0.815\n",
      "Epoch  22 Batch   44/53   train_loss = 0.847\n",
      "Epoch  23 Batch    1/53   train_loss = 0.798\n",
      "Epoch  23 Batch   11/53   train_loss = 0.843\n",
      "Epoch  23 Batch   21/53   train_loss = 0.736\n",
      "Epoch  23 Batch   31/53   train_loss = 0.799\n",
      "Epoch  23 Batch   41/53   train_loss = 0.759\n",
      "Epoch  23 Batch   51/53   train_loss = 0.763\n",
      "Epoch  24 Batch    8/53   train_loss = 0.766\n",
      "Epoch  24 Batch   18/53   train_loss = 0.743\n",
      "Epoch  24 Batch   28/53   train_loss = 0.776\n",
      "Epoch  24 Batch   38/53   train_loss = 0.827\n",
      "Epoch  24 Batch   48/53   train_loss = 0.739\n",
      "Epoch  25 Batch    5/53   train_loss = 0.811\n",
      "Epoch  25 Batch   15/53   train_loss = 0.727\n",
      "Epoch  25 Batch   25/53   train_loss = 0.757\n",
      "Epoch  25 Batch   35/53   train_loss = 0.730\n",
      "Epoch  25 Batch   45/53   train_loss = 0.781\n",
      "Epoch  26 Batch    2/53   train_loss = 0.768\n",
      "Epoch  26 Batch   12/53   train_loss = 0.745\n",
      "Epoch  26 Batch   22/53   train_loss = 0.748\n",
      "Epoch  26 Batch   32/53   train_loss = 0.643\n",
      "Epoch  26 Batch   42/53   train_loss = 0.722\n",
      "Epoch  26 Batch   52/53   train_loss = 0.727\n",
      "Epoch  27 Batch    9/53   train_loss = 0.641\n",
      "Epoch  27 Batch   19/53   train_loss = 0.688\n",
      "Epoch  27 Batch   29/53   train_loss = 0.698\n",
      "Epoch  27 Batch   39/53   train_loss = 0.672\n",
      "Epoch  27 Batch   49/53   train_loss = 0.676\n",
      "Epoch  28 Batch    6/53   train_loss = 0.647\n",
      "Epoch  28 Batch   16/53   train_loss = 0.646\n",
      "Epoch  28 Batch   26/53   train_loss = 0.559\n",
      "Epoch  28 Batch   36/53   train_loss = 0.726\n",
      "Epoch  28 Batch   46/53   train_loss = 0.653\n",
      "Epoch  29 Batch    3/53   train_loss = 0.690\n",
      "Epoch  29 Batch   13/53   train_loss = 0.668\n",
      "Epoch  29 Batch   23/53   train_loss = 0.613\n",
      "Epoch  29 Batch   33/53   train_loss = 0.628\n",
      "Epoch  29 Batch   43/53   train_loss = 0.655\n",
      "Epoch  30 Batch    0/53   train_loss = 0.645\n",
      "Epoch  30 Batch   10/53   train_loss = 0.623\n",
      "Epoch  30 Batch   20/53   train_loss = 0.606\n",
      "Epoch  30 Batch   30/53   train_loss = 0.629\n",
      "Epoch  30 Batch   40/53   train_loss = 0.638\n",
      "Epoch  30 Batch   50/53   train_loss = 0.610\n",
      "Epoch  31 Batch    7/53   train_loss = 0.607\n",
      "Epoch  31 Batch   17/53   train_loss = 0.589\n",
      "Epoch  31 Batch   27/53   train_loss = 0.642\n",
      "Epoch  31 Batch   37/53   train_loss = 0.610\n",
      "Epoch  31 Batch   47/53   train_loss = 0.599\n",
      "Epoch  32 Batch    4/53   train_loss = 0.651\n",
      "Epoch  32 Batch   14/53   train_loss = 0.628\n",
      "Epoch  32 Batch   24/53   train_loss = 0.562\n",
      "Epoch  32 Batch   34/53   train_loss = 0.609\n",
      "Epoch  32 Batch   44/53   train_loss = 0.638\n",
      "Epoch  33 Batch    1/53   train_loss = 0.620\n",
      "Epoch  33 Batch   11/53   train_loss = 0.627\n",
      "Epoch  33 Batch   21/53   train_loss = 0.594\n",
      "Epoch  33 Batch   31/53   train_loss = 0.626\n",
      "Epoch  33 Batch   41/53   train_loss = 0.614\n",
      "Epoch  33 Batch   51/53   train_loss = 0.593\n",
      "Epoch  34 Batch    8/53   train_loss = 0.638\n",
      "Epoch  34 Batch   18/53   train_loss = 0.622\n",
      "Epoch  34 Batch   28/53   train_loss = 0.616\n",
      "Epoch  34 Batch   38/53   train_loss = 0.698\n",
      "Epoch  34 Batch   48/53   train_loss = 0.611\n",
      "Epoch  35 Batch    5/53   train_loss = 0.658\n",
      "Epoch  35 Batch   15/53   train_loss = 0.616\n",
      "Epoch  35 Batch   25/53   train_loss = 0.660\n",
      "Epoch  35 Batch   35/53   train_loss = 0.615\n",
      "Epoch  35 Batch   45/53   train_loss = 0.681\n",
      "Epoch  36 Batch    2/53   train_loss = 0.679\n",
      "Epoch  36 Batch   12/53   train_loss = 0.673\n",
      "Epoch  36 Batch   22/53   train_loss = 0.664\n",
      "Epoch  36 Batch   32/53   train_loss = 0.643\n",
      "Epoch  36 Batch   42/53   train_loss = 0.694\n",
      "Epoch  36 Batch   52/53   train_loss = 0.728\n",
      "Epoch  37 Batch    9/53   train_loss = 0.657\n",
      "Epoch  37 Batch   19/53   train_loss = 0.723\n",
      "Epoch  37 Batch   29/53   train_loss = 0.753\n",
      "Epoch  37 Batch   39/53   train_loss = 0.775\n",
      "Epoch  37 Batch   49/53   train_loss = 0.762\n",
      "Epoch  38 Batch    6/53   train_loss = 0.776\n",
      "Epoch  38 Batch   16/53   train_loss = 0.820\n",
      "Epoch  38 Batch   26/53   train_loss = 0.793\n",
      "Epoch  38 Batch   36/53   train_loss = 0.905\n",
      "Epoch  38 Batch   46/53   train_loss = 0.867\n",
      "Epoch  39 Batch    3/53   train_loss = 0.903\n",
      "Epoch  39 Batch   13/53   train_loss = 1.010\n",
      "Epoch  39 Batch   23/53   train_loss = 0.983\n",
      "Epoch  39 Batch   33/53   train_loss = 0.964\n",
      "Epoch  39 Batch   43/53   train_loss = 0.978\n",
      "Epoch  40 Batch    0/53   train_loss = 0.994\n",
      "Epoch  40 Batch   10/53   train_loss = 0.920\n",
      "Epoch  40 Batch   20/53   train_loss = 0.944\n",
      "Epoch  40 Batch   30/53   train_loss = 0.966\n",
      "Epoch  40 Batch   40/53   train_loss = 0.983\n",
      "Epoch  40 Batch   50/53   train_loss = 0.963\n",
      "Epoch  41 Batch    7/53   train_loss = 0.934\n",
      "Epoch  41 Batch   17/53   train_loss = 0.892\n",
      "Epoch  41 Batch   27/53   train_loss = 0.967\n",
      "Epoch  41 Batch   37/53   train_loss = 0.898\n",
      "Epoch  41 Batch   47/53   train_loss = 0.893\n",
      "Epoch  42 Batch    4/53   train_loss = 0.938\n",
      "Epoch  42 Batch   14/53   train_loss = 0.911\n",
      "Epoch  42 Batch   24/53   train_loss = 0.791\n",
      "Epoch  42 Batch   34/53   train_loss = 0.824\n",
      "Epoch  42 Batch   44/53   train_loss = 0.909\n",
      "Epoch  43 Batch    1/53   train_loss = 0.771\n",
      "Epoch  43 Batch   11/53   train_loss = 0.783\n",
      "Epoch  43 Batch   21/53   train_loss = 0.750\n",
      "Epoch  43 Batch   31/53   train_loss = 0.749\n",
      "Epoch  43 Batch   41/53   train_loss = 0.738\n",
      "Epoch  43 Batch   51/53   train_loss = 0.731\n",
      "Epoch  44 Batch    8/53   train_loss = 0.674\n",
      "Epoch  44 Batch   18/53   train_loss = 0.694\n",
      "Epoch  44 Batch   28/53   train_loss = 0.681\n",
      "Epoch  44 Batch   38/53   train_loss = 0.729\n",
      "Epoch  44 Batch   48/53   train_loss = 0.645\n",
      "Epoch  45 Batch    5/53   train_loss = 0.693\n",
      "Epoch  45 Batch   15/53   train_loss = 0.625\n",
      "Epoch  45 Batch   25/53   train_loss = 0.619\n",
      "Epoch  45 Batch   35/53   train_loss = 0.579\n",
      "Epoch  45 Batch   45/53   train_loss = 0.600\n",
      "Epoch  46 Batch    2/53   train_loss = 0.586\n",
      "Epoch  46 Batch   12/53   train_loss = 0.569\n",
      "Epoch  46 Batch   22/53   train_loss = 0.552\n",
      "Epoch  46 Batch   32/53   train_loss = 0.512\n",
      "Epoch  46 Batch   42/53   train_loss = 0.532\n",
      "Epoch  46 Batch   52/53   train_loss = 0.534\n",
      "Epoch  47 Batch    9/53   train_loss = 0.483\n",
      "Epoch  47 Batch   19/53   train_loss = 0.505\n",
      "Epoch  47 Batch   29/53   train_loss = 0.509\n",
      "Epoch  47 Batch   39/53   train_loss = 0.484\n",
      "Epoch  47 Batch   49/53   train_loss = 0.493\n",
      "Epoch  48 Batch    6/53   train_loss = 0.467\n",
      "Epoch  48 Batch   16/53   train_loss = 0.461\n",
      "Epoch  48 Batch   26/53   train_loss = 0.422\n",
      "Epoch  48 Batch   36/53   train_loss = 0.492\n",
      "Epoch  48 Batch   46/53   train_loss = 0.437\n",
      "Epoch  49 Batch    3/53   train_loss = 0.473\n",
      "Epoch  49 Batch   13/53   train_loss = 0.473\n",
      "Epoch  49 Batch   23/53   train_loss = 0.471\n",
      "Epoch  49 Batch   33/53   train_loss = 0.444\n",
      "Epoch  49 Batch   43/53   train_loss = 0.459\n",
      "Model Trained and Saved\n"
     ]
    }
   ],
   "source": [
    "\"\"\"\n",
    "DON'T MODIFY ANYTHING IN THIS CELL\n",
    "\"\"\"\n",
    "batches = get_batches(int_text, batch_size, seq_length)\n",
    "\n",
    "with tf.Session(graph=train_graph) as sess:\n",
    "    sess.run(tf.global_variables_initializer())\n",
    "\n",
    "    for epoch_i in range(num_epochs):\n",
    "        state = sess.run(initial_state, {input_text: batches[0][0]})\n",
    "\n",
    "        for batch_i, (x, y) in enumerate(batches):\n",
    "            feed = {\n",
    "                input_text: x,\n",
    "                targets: y,\n",
    "                initial_state: state,\n",
    "                lr: learning_rate}\n",
    "            train_loss, state, _ = sess.run([cost, final_state, train_op], feed)\n",
    "\n",
    "            # Show every <show_every_n_batches> batches\n",
    "            if (epoch_i * len(batches) + batch_i) % show_every_n_batches == 0:\n",
    "                print('Epoch {:>3} Batch {:>4}/{}   train_loss = {:.3f}'.format(\n",
    "                    epoch_i,\n",
    "                    batch_i,\n",
    "                    len(batches),\n",
    "                    train_loss))\n",
    "\n",
    "    # Save Model\n",
    "    saver = tf.train.Saver()\n",
    "    saver.save(sess, save_dir)\n",
    "    print('Model Trained and Saved')"
   ]
  },
  {
   "cell_type": "markdown",
   "metadata": {},
   "source": [
    "## Save Parameters\n",
    "Save `seq_length` and `save_dir` for generating a new TV script."
   ]
  },
  {
   "cell_type": "code",
   "execution_count": 12,
   "metadata": {
    "collapsed": true
   },
   "outputs": [],
   "source": [
    "\"\"\"\n",
    "DON'T MODIFY ANYTHING IN THIS CELL\n",
    "\"\"\"\n",
    "# Save parameters for checkpoint\n",
    "helper.save_params((seq_length, save_dir))"
   ]
  },
  {
   "cell_type": "markdown",
   "metadata": {},
   "source": [
    "# Checkpoint"
   ]
  },
  {
   "cell_type": "code",
   "execution_count": 1,
   "metadata": {
    "collapsed": true
   },
   "outputs": [],
   "source": [
    "\"\"\"\n",
    "DON'T MODIFY ANYTHING IN THIS CELL\n",
    "\"\"\"\n",
    "import tensorflow as tf\n",
    "import numpy as np\n",
    "import helper\n",
    "import problem_unittests as tests\n",
    "\n",
    "_, vocab_to_int, int_to_vocab, token_dict = helper.load_preprocess()\n",
    "seq_length, load_dir = helper.load_params()"
   ]
  },
  {
   "cell_type": "markdown",
   "metadata": {},
   "source": [
    "## Implement Generate Functions\n",
    "### Get Tensors\n",
    "Get tensors from `loaded_graph` using the function [`get_tensor_by_name()`](https://www.tensorflow.org/api_docs/python/tf/Graph#get_tensor_by_name).  Get the tensors using the following names:\n",
    "- \"input:0\"\n",
    "- \"initial_state:0\"\n",
    "- \"final_state:0\"\n",
    "- \"probs:0\"\n",
    "\n",
    "Return the tensors in the following tuple `(InputTensor, InitialStateTensor, FinalStateTensor, ProbsTensor)` "
   ]
  },
  {
   "cell_type": "code",
   "execution_count": 18,
   "metadata": {},
   "outputs": [
    {
     "name": "stdout",
     "output_type": "stream",
     "text": [
      "Tests Passed\n"
     ]
    }
   ],
   "source": [
    "def get_tensors(loaded_graph):\n",
    "    \"\"\"\n",
    "    Get input, initial state, final state, and probabilities tensor from <loaded_graph>\n",
    "    :param loaded_graph: TensorFlow graph loaded from file\n",
    "    :return: Tuple (InputTensor, InitialStateTensor, FinalStateTensor, ProbsTensor)\n",
    "    \"\"\"\n",
    "    # TODO: Implement Function\n",
    "    input_tensor = loaded_graph.get_tensor_by_name('input:0')\n",
    "    initial_state_tensor = loaded_graph.get_tensor_by_name('initial_state:0')\n",
    "    final_state_tensor = loaded_graph.get_tensor_by_name('final_state:0')\n",
    "    probs_tensor = loaded_graph.get_tensor_by_name('probs:0')\n",
    "    \n",
    "    return (input_tensor, initial_state_tensor, final_state_tensor, probs_tensor)\n",
    "\n",
    "\n",
    "\"\"\"\n",
    "DON'T MODIFY ANYTHING IN THIS CELL THAT IS BELOW THIS LINE\n",
    "\"\"\"\n",
    "tests.test_get_tensors(get_tensors)"
   ]
  },
  {
   "cell_type": "markdown",
   "metadata": {},
   "source": [
    "### Choose Word\n",
    "Implement the `pick_word()` function to select the next word using `probabilities`."
   ]
  },
  {
   "cell_type": "code",
   "execution_count": 45,
   "metadata": {},
   "outputs": [
    {
     "name": "stdout",
     "output_type": "stream",
     "text": [
      "Tests Passed\n"
     ]
    }
   ],
   "source": [
    "def pick_word(probabilities, int_to_vocab):\n",
    "    \"\"\"\n",
    "    Pick the next word in the generated text\n",
    "    :param probabilities: Probabilites of the next word\n",
    "    :param int_to_vocab: Dictionary of word ids as the keys and words as the values\n",
    "    :return: String of the predicted word\n",
    "    \"\"\"\n",
    "    # TODO: Implement Function\n",
    "    probabilities = list(map(lambda x: x * np.random.uniform(0.8, 1), probabilities))\n",
    "    \n",
    "    return int_to_vocab[np.argmax(probabilities)]\n",
    "\n",
    "\n",
    "\"\"\"\n",
    "DON'T MODIFY ANYTHING IN THIS CELL THAT IS BELOW THIS LINE\n",
    "\"\"\"\n",
    "tests.test_pick_word(pick_word)"
   ]
  },
  {
   "cell_type": "markdown",
   "metadata": {},
   "source": [
    "## Generate TV Script\n",
    "This will generate the TV script for you.  Set `gen_length` to the length of TV script you want to generate."
   ]
  },
  {
   "cell_type": "code",
   "execution_count": 46,
   "metadata": {},
   "outputs": [
    {
     "name": "stdout",
     "output_type": "stream",
     "text": [
      "INFO:tensorflow:Restoring parameters from ./save\n",
      "moe_szyslak:(to kids) go grab all his money and a couple of duff...\n",
      "moe_szyslak: pipe down, rub-a-dub.\n",
      "\n",
      "\n",
      "moe_szyslak: now, guess who said you said!\n",
      "homer_simpson:(chanting) i'm-so-stupid! i'm-so-stupid! i'm-so-stupid!\"(sobs)\n",
      "homer_simpson:(to moe, proudly) she has crossed a girl, a kid for me?\n",
      "moe_szyslak:(to little man) i, um, i don't know. what have you done?\n",
      "homer_simpson:(disappointed) oh, no.\n",
      "jacques: not at my life.\n",
      "moe_szyslak: geez, homer, this is still turn into a new bar.\n",
      "homer_simpson: woo hoo! i'll woo her with woo-hoo!\n",
      "duffman: and the car!\n",
      "moe_szyslak: whoa, whoa, whoa! no offense, how can we have the keys to the car, huh?\n",
      "moe_szyslak:(cutting him off) i'm your picture!\n",
      "krusty_the_clown: i didn't rip this...\n",
      "carl_carlson: hey, anybody. somethin'. you know, you're kinda quiet renee. um, i-i\n"
     ]
    }
   ],
   "source": [
    "gen_length = 200\n",
    "# homer_simpson, moe_szyslak, or Barney_Gumble\n",
    "prime_word = 'moe_szyslak'\n",
    "\n",
    "\"\"\"\n",
    "DON'T MODIFY ANYTHING IN THIS CELL THAT IS BELOW THIS LINE\n",
    "\"\"\"\n",
    "loaded_graph = tf.Graph()\n",
    "with tf.Session(graph=loaded_graph) as sess:\n",
    "    # Load saved model\n",
    "    loader = tf.train.import_meta_graph(load_dir + '.meta')\n",
    "    loader.restore(sess, load_dir)\n",
    "\n",
    "    # Get Tensors from loaded model\n",
    "    input_text, initial_state, final_state, probs = get_tensors(loaded_graph)\n",
    "\n",
    "    # Sentences generation setup\n",
    "    gen_sentences = [prime_word + ':']\n",
    "    prev_state = sess.run(initial_state, {input_text: np.array([[1]])})\n",
    "\n",
    "    # Generate sentences\n",
    "    for n in range(gen_length):\n",
    "        # Dynamic Input\n",
    "        dyn_input = [[vocab_to_int[word] for word in gen_sentences[-seq_length:]]]\n",
    "        dyn_seq_length = len(dyn_input[0])\n",
    "\n",
    "        # Get Prediction\n",
    "        probabilities, prev_state = sess.run(\n",
    "            [probs, final_state],\n",
    "            {input_text: dyn_input, initial_state: prev_state})\n",
    "        \n",
    "        pred_word = pick_word(probabilities[dyn_seq_length-1], int_to_vocab)\n",
    "\n",
    "        gen_sentences.append(pred_word)\n",
    "    \n",
    "    # Remove tokens\n",
    "    tv_script = ' '.join(gen_sentences)\n",
    "    for key, token in token_dict.items():\n",
    "        ending = ' ' if key in ['\\n', '(', '\"'] else ''\n",
    "        tv_script = tv_script.replace(' ' + token.lower(), key)\n",
    "    tv_script = tv_script.replace('\\n ', '\\n')\n",
    "    tv_script = tv_script.replace('( ', '(')\n",
    "        \n",
    "    print(tv_script)"
   ]
  },
  {
   "cell_type": "markdown",
   "metadata": {},
   "source": [
    "# The TV Script is Nonsensical\n",
    "It's ok if the TV script doesn't make any sense.  We trained on less than a megabyte of text.  In order to get good results, you'll have to use a smaller vocabulary or get more data.  Luckly there's more data!  As we mentioned in the begging of this project, this is a subset of [another dataset](https://www.kaggle.com/wcukierski/the-simpsons-by-the-data).  We didn't have you train on all the data, because that would take too long.  However, you are free to train your neural network on all the data.  After you complete the project, of course.\n",
    "# Submitting This Project\n",
    "When submitting this project, make sure to run all the cells before saving the notebook. Save the notebook file as \"dlnd_tv_script_generation.ipynb\" and save it as a HTML file under \"File\" -> \"Download as\". Include the \"helper.py\" and \"problem_unittests.py\" files in your submission."
   ]
  }
 ],
 "metadata": {
  "kernelspec": {
   "display_name": "Python 3",
   "language": "python",
   "name": "python3"
  },
  "language_info": {
   "codemirror_mode": {
    "name": "ipython",
    "version": 3
   },
   "file_extension": ".py",
   "mimetype": "text/x-python",
   "name": "python",
   "nbconvert_exporter": "python",
   "pygments_lexer": "ipython3",
   "version": "3.6.1"
  },
  "widgets": {
   "state": {},
   "version": "1.1.2"
  }
 },
 "nbformat": 4,
 "nbformat_minor": 1
}
